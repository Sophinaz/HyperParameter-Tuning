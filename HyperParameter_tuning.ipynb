{
  "nbformat": 4,
  "nbformat_minor": 0,
  "metadata": {
    "colab": {
      "provenance": [],
      "authorship_tag": "ABX9TyPy4b9zMKf3UzPwjEgzlJm/",
      "include_colab_link": true
    },
    "kernelspec": {
      "name": "python3",
      "display_name": "Python 3"
    },
    "language_info": {
      "name": "python"
    }
  },
  "cells": [
    {
      "cell_type": "markdown",
      "metadata": {
        "id": "view-in-github",
        "colab_type": "text"
      },
      "source": [
        "<a href=\"https://colab.research.google.com/github/Sophinaz/HyperParameter-Tuning/blob/main/HyperParameter_tuning.ipynb\" target=\"_parent\"><img src=\"https://colab.research.google.com/assets/colab-badge.svg\" alt=\"Open In Colab\"/></a>"
      ]
    },
    {
      "cell_type": "code",
      "source": [
        "pip install scikit-optimize"
      ],
      "metadata": {
        "colab": {
          "base_uri": "https://localhost:8080/"
        },
        "id": "c6HNASeC6hUp",
        "outputId": "bdefafe0-9c45-48d8-932d-88fd89ed7d4b"
      },
      "execution_count": null,
      "outputs": [
        {
          "output_type": "stream",
          "name": "stdout",
          "text": [
            "Collecting scikit-optimize\n",
            "  Downloading scikit_optimize-0.10.2-py2.py3-none-any.whl.metadata (9.7 kB)\n",
            "Requirement already satisfied: joblib>=0.11 in /usr/local/lib/python3.11/dist-packages (from scikit-optimize) (1.4.2)\n",
            "Collecting pyaml>=16.9 (from scikit-optimize)\n",
            "  Downloading pyaml-25.1.0-py3-none-any.whl.metadata (12 kB)\n",
            "Requirement already satisfied: numpy>=1.20.3 in /usr/local/lib/python3.11/dist-packages (from scikit-optimize) (2.0.2)\n",
            "Requirement already satisfied: scipy>=1.1.0 in /usr/local/lib/python3.11/dist-packages (from scikit-optimize) (1.14.1)\n",
            "Requirement already satisfied: scikit-learn>=1.0.0 in /usr/local/lib/python3.11/dist-packages (from scikit-optimize) (1.6.1)\n",
            "Requirement already satisfied: packaging>=21.3 in /usr/local/lib/python3.11/dist-packages (from scikit-optimize) (24.2)\n",
            "Requirement already satisfied: PyYAML in /usr/local/lib/python3.11/dist-packages (from pyaml>=16.9->scikit-optimize) (6.0.2)\n",
            "Requirement already satisfied: threadpoolctl>=3.1.0 in /usr/local/lib/python3.11/dist-packages (from scikit-learn>=1.0.0->scikit-optimize) (3.6.0)\n",
            "Downloading scikit_optimize-0.10.2-py2.py3-none-any.whl (107 kB)\n",
            "\u001b[2K   \u001b[90m━━━━━━━━━━━━━━━━━━━━━━━━━━━━━━━━━━━━━━━━\u001b[0m \u001b[32m107.8/107.8 kB\u001b[0m \u001b[31m2.4 MB/s\u001b[0m eta \u001b[36m0:00:00\u001b[0m\n",
            "\u001b[?25hDownloading pyaml-25.1.0-py3-none-any.whl (26 kB)\n",
            "Installing collected packages: pyaml, scikit-optimize\n",
            "Successfully installed pyaml-25.1.0 scikit-optimize-0.10.2\n"
          ]
        }
      ]
    },
    {
      "cell_type": "code",
      "execution_count": null,
      "metadata": {
        "id": "cSZWRPDrJUg5"
      },
      "outputs": [],
      "source": [
        "import numpy as np\n",
        "import pandas as pd\n",
        "import matplotlib.pyplot as plt\n",
        "from sklearn.model_selection import train_test_split, GridSearchCV\n",
        "from sklearn.preprocessing import StandardScaler, OneHotEncoder, StandardScaler, LabelEncoder\n",
        "from sklearn.pipeline import Pipeline\n",
        "from sklearn.metrics import mean_squared_error, r2_score\n",
        "from sklearn.ensemble import GradientBoostingRegressor, ExtraTreesRegressor, AdaBoostRegressor\n",
        "from sklearn.linear_model import Lasso, ElasticNet, SGDRegressor\n",
        "from sklearn.svm import SVR\n",
        "from skopt import BayesSearchCV\n",
        "from sklearn.compose import ColumnTransformer"
      ]
    },
    {
      "cell_type": "code",
      "source": [
        "!pip install ucimlrepo"
      ],
      "metadata": {
        "colab": {
          "base_uri": "https://localhost:8080/"
        },
        "id": "ThDKkODLLR1w",
        "outputId": "1cfe3590-27e5-4d92-d36d-b7d1b0cfe0ef"
      },
      "execution_count": null,
      "outputs": [
        {
          "output_type": "stream",
          "name": "stdout",
          "text": [
            "Collecting ucimlrepo\n",
            "  Downloading ucimlrepo-0.0.7-py3-none-any.whl.metadata (5.5 kB)\n",
            "Requirement already satisfied: pandas>=1.0.0 in /usr/local/lib/python3.11/dist-packages (from ucimlrepo) (2.2.2)\n",
            "Requirement already satisfied: certifi>=2020.12.5 in /usr/local/lib/python3.11/dist-packages (from ucimlrepo) (2025.1.31)\n",
            "Requirement already satisfied: numpy>=1.23.2 in /usr/local/lib/python3.11/dist-packages (from pandas>=1.0.0->ucimlrepo) (2.0.2)\n",
            "Requirement already satisfied: python-dateutil>=2.8.2 in /usr/local/lib/python3.11/dist-packages (from pandas>=1.0.0->ucimlrepo) (2.8.2)\n",
            "Requirement already satisfied: pytz>=2020.1 in /usr/local/lib/python3.11/dist-packages (from pandas>=1.0.0->ucimlrepo) (2025.1)\n",
            "Requirement already satisfied: tzdata>=2022.7 in /usr/local/lib/python3.11/dist-packages (from pandas>=1.0.0->ucimlrepo) (2025.1)\n",
            "Requirement already satisfied: six>=1.5 in /usr/local/lib/python3.11/dist-packages (from python-dateutil>=2.8.2->pandas>=1.0.0->ucimlrepo) (1.17.0)\n",
            "Downloading ucimlrepo-0.0.7-py3-none-any.whl (8.0 kB)\n",
            "Installing collected packages: ucimlrepo\n",
            "Successfully installed ucimlrepo-0.0.7\n"
          ]
        }
      ]
    },
    {
      "cell_type": "code",
      "source": [
        "from ucimlrepo import fetch_ucirepo\n",
        "\n",
        "# fetch dataset\n",
        "obesity_level = fetch_ucirepo(id=544)\n",
        "\n",
        "# data (as pandas dataframes)\n",
        "X = obesity_level.data.features\n",
        "y = obesity_level.data.targets\n"
      ],
      "metadata": {
        "id": "KqhDVPTIJb7C"
      },
      "execution_count": null,
      "outputs": []
    },
    {
      "cell_type": "code",
      "source": [
        "X_train, X_test, y_train, y_test = train_test_split(X, y, test_size=0.2, random_state=42)"
      ],
      "metadata": {
        "id": "QCqhpMeBNFmf"
      },
      "execution_count": null,
      "outputs": []
    },
    {
      "cell_type": "code",
      "source": [
        "label_encoder = LabelEncoder()\n",
        "y_train_encoded = label_encoder.fit_transform(y_train)\n",
        "y_pred_encoded = label_encoder.transform(y_test)"
      ],
      "metadata": {
        "colab": {
          "base_uri": "https://localhost:8080/"
        },
        "id": "60bzUZJx-T-a",
        "outputId": "a73c5c22-4a1d-44fe-8e72-899f402956e3"
      },
      "execution_count": null,
      "outputs": [
        {
          "output_type": "stream",
          "name": "stderr",
          "text": [
            "/usr/local/lib/python3.11/dist-packages/sklearn/preprocessing/_label.py:110: DataConversionWarning: A column-vector y was passed when a 1d array was expected. Please change the shape of y to (n_samples, ), for example using ravel().\n",
            "  y = column_or_1d(y, warn=True)\n",
            "/usr/local/lib/python3.11/dist-packages/sklearn/preprocessing/_label.py:129: DataConversionWarning: A column-vector y was passed when a 1d array was expected. Please change the shape of y to (n_samples, ), for example using ravel().\n",
            "  y = column_or_1d(y, dtype=self.classes_.dtype, warn=True)\n"
          ]
        }
      ]
    },
    {
      "cell_type": "code",
      "source": [
        "y_pred_encoded"
      ],
      "metadata": {
        "colab": {
          "base_uri": "https://localhost:8080/"
        },
        "id": "SxVjeMiZ7Aw9",
        "outputId": "ad47a389-7006-4bd0-bd52-73fc8824a0af"
      },
      "execution_count": null,
      "outputs": [
        {
          "output_type": "execute_result",
          "data": {
            "text/plain": [
              "array([0, 4, 0, 0, 1, 0, 3, 5, 2, 0, 2, 4, 3, 3, 4, 6, 4, 3, 2, 6, 2, 5,\n",
              "       4, 2, 1, 6, 6, 4, 4, 0, 4, 5, 6, 1, 0, 4, 2, 1, 1, 1, 1, 3, 1, 1,\n",
              "       5, 0, 3, 1, 2, 3, 1, 1, 1, 5, 0, 6, 3, 3, 5, 3, 1, 4, 6, 0, 3, 2,\n",
              "       1, 4, 0, 1, 6, 6, 0, 0, 5, 3, 3, 1, 4, 3, 1, 2, 3, 3, 2, 2, 1, 6,\n",
              "       1, 6, 5, 3, 0, 5, 2, 0, 5, 2, 1, 3, 2, 2, 4, 2, 6, 2, 1, 4, 4, 3,\n",
              "       2, 1, 2, 1, 0, 2, 2, 3, 6, 1, 4, 3, 2, 6, 1, 3, 2, 2, 4, 3, 4, 3,\n",
              "       1, 2, 6, 4, 0, 4, 5, 2, 5, 6, 0, 0, 1, 3, 2, 4, 0, 2, 0, 0, 1, 3,\n",
              "       2, 5, 6, 5, 0, 0, 1, 1, 2, 0, 3, 0, 2, 1, 5, 6, 1, 6, 3, 4, 2, 6,\n",
              "       2, 6, 2, 5, 0, 3, 0, 5, 3, 2, 5, 4, 3, 3, 0, 4, 0, 1, 4, 5, 3, 2,\n",
              "       4, 0, 3, 3, 4, 4, 1, 4, 5, 5, 2, 4, 5, 2, 0, 2, 3, 0, 5, 3, 3, 3,\n",
              "       4, 6, 3, 5, 3, 6, 0, 4, 5, 5, 5, 4, 1, 5, 1, 2, 2, 2, 2, 0, 6, 6,\n",
              "       5, 2, 2, 2, 1, 2, 2, 0, 5, 2, 0, 1, 1, 6, 2, 3, 2, 2, 4, 4, 5, 2,\n",
              "       2, 4, 4, 1, 1, 4, 2, 4, 6, 2, 3, 2, 3, 4, 3, 1, 0, 5, 6, 4, 4, 5,\n",
              "       2, 6, 0, 3, 2, 5, 1, 2, 0, 5, 3, 3, 6, 6, 1, 5, 0, 0, 5, 1, 6, 5,\n",
              "       6, 4, 5, 3, 1, 4, 5, 6, 2, 4, 6, 1, 0, 1, 4, 0, 1, 4, 2, 2, 4, 0,\n",
              "       1, 1, 3, 4, 2, 5, 2, 0, 0, 0, 2, 4, 6, 2, 4, 3, 5, 2, 5, 6, 6, 4,\n",
              "       6, 1, 0, 6, 6, 6, 5, 6, 6, 3, 2, 2, 3, 4, 2, 6, 5, 4, 0, 2, 1, 3,\n",
              "       2, 5, 0, 1, 2, 2, 6, 6, 1, 0, 4, 5, 4, 4, 1, 2, 3, 5, 4, 6, 3, 5,\n",
              "       0, 4, 5, 4, 1, 0, 1, 5, 2, 1, 0, 4, 1, 4, 6, 5, 5, 5, 4, 0, 5, 2,\n",
              "       5, 3, 1, 3, 6])"
            ]
          },
          "metadata": {},
          "execution_count": 45
        }
      ]
    },
    {
      "cell_type": "code",
      "source": [
        "categorical_cols = ['Gender', 'family_history_with_overweight', 'FAVC', 'CAEC', 'SMOKE', 'SCC', 'CALC', 'MTRANS']\n",
        "numerical_cols = ['Age', 'Height', 'Weight', 'FCVC', 'NCP', 'CH2O', 'FAF', 'TUE']\n",
        "\n",
        "preprocessor = ColumnTransformer([\n",
        "    ('num', StandardScaler(), numerical_cols),\n",
        "    ('cat', OneHotEncoder(handle_unknown='ignore'), categorical_cols)\n",
        "])\n",
        "\n",
        "sgd_pipe = Pipeline([\n",
        "    ('preprocessor', preprocessor),\n",
        "    ('model', SGDRegressor())\n",
        "])\n",
        "\n",
        "gb_pipe = Pipeline([\n",
        "    ('preprocessor', preprocessor),\n",
        "    ('model', GradientBoostingRegressor(random_state=42))\n",
        "])"
      ],
      "metadata": {
        "id": "4hVQE3cE2SkZ"
      },
      "execution_count": null,
      "outputs": []
    },
    {
      "cell_type": "code",
      "source": [
        "sgd_param_space = {\n",
        "    'model__alpha': (1e-5, 1e-1, 'log-uniform'),  # Regularization strength\n",
        "    'model__l1_ratio': (0, 1),                    # ElasticNet mixing (0=Ridge, 1=Lasso)\n",
        "    'model__learning_rate': ['constant', 'invscaling', 'adaptive'],\n",
        "    'model__eta0': (0.01, 1.0)                    # Initial learning rate\n",
        "}\n",
        "\n",
        "bayes_search = BayesSearchCV(\n",
        "    sgd_pipe,\n",
        "    sgd_param_space,\n",
        "    n_iter=20,  # Number of Bayesian optimization iterations\n",
        "    cv=3,\n",
        "    scoring='neg_mean_squared_error',\n",
        "    random_state=42,\n",
        "    n_jobs=-1    # Use all CPU cores\n",
        ")\n",
        "\n",
        "bayes_search.fit(X_train, y_train_encoded)\n",
        "best_sgd = bayes_search.best_estimator_\n",
        "\n",
        "# Train models\n",
        "best_sgd.fit(X_train, y_train_encoded)\n",
        "gb_pipe.fit(X_train, y_train_encoded)\n",
        "\n",
        "print(\"Best SGD params:\", bayes_search.best_params_)"
      ],
      "metadata": {
        "colab": {
          "base_uri": "https://localhost:8080/"
        },
        "id": "IT_u5H6s3ZW-",
        "outputId": "434786f9-a5b2-4200-8715-b0585e0a16fa"
      },
      "execution_count": null,
      "outputs": [
        {
          "output_type": "stream",
          "name": "stdout",
          "text": [
            "Best SGD params: OrderedDict([('model__alpha', 0.015783879853890563), ('model__eta0', 0.44364889457651413), ('model__l1_ratio', 1), ('model__learning_rate', 'adaptive')])\n"
          ]
        }
      ]
    },
    {
      "cell_type": "code",
      "source": [
        "def evaluate(model, name):\n",
        "    y_pred = model.predict(X_test)\n",
        "    rmse = np.sqrt(mean_squared_error(y_pred_encoded, y_pred))\n",
        "    r2 = r2_score(y_pred_encoded, y_pred)\n",
        "    print(f\"\\n{name} Results:\")\n",
        "    print(f\"RMSE: {rmse:.3f}\")\n",
        "    print(f\"R²: {r2:.3f}\")\n",
        "    return y_pred\n",
        "\n",
        "_ = evaluate(best_sgd, \"SGD Regressor\")\n",
        "_ = evaluate(gb_pipe, \"Gradient Boosting Regressor\")"
      ],
      "metadata": {
        "colab": {
          "base_uri": "https://localhost:8080/"
        },
        "id": "IMPHXfrD_Dxn",
        "outputId": "8db0e3ef-1ed7-40ba-ebed-e1f19b980c12"
      },
      "execution_count": null,
      "outputs": [
        {
          "output_type": "stream",
          "name": "stdout",
          "text": [
            "\n",
            "SGD Regressor Results:\n",
            "RMSE: 1.639\n",
            "R²: 0.273\n",
            "\n",
            "Gradient Boosting Regressor Results:\n",
            "RMSE: 0.862\n",
            "R²: 0.799\n"
          ]
        }
      ]
    }
  ]
}